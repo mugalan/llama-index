{
  "nbformat": 4,
  "nbformat_minor": 0,
  "metadata": {
    "colab": {
      "provenance": [],
      "include_colab_link": true
    },
    "kernelspec": {
      "name": "python3",
      "display_name": "Python 3"
    },
    "language_info": {
      "name": "python"
    }
  },
  "cells": [
    {
      "cell_type": "markdown",
      "metadata": {
        "id": "view-in-github",
        "colab_type": "text"
      },
      "source": [
        "<a href=\"https://colab.research.google.com/github/mugalan/llama-index/blob/main/LLM_Indexing_Storage.ipynb\" target=\"_parent\"><img src=\"https://colab.research.google.com/assets/colab-badge.svg\" alt=\"Open In Colab\"/></a>"
      ]
    },
    {
      "cell_type": "markdown",
      "source": [
        "##Dependencies"
      ],
      "metadata": {
        "id": "lG9iqlv2W_QT"
      }
    },
    {
      "cell_type": "code",
      "source": [
        "import networkx as nx\n",
        "import json\n",
        "import pandas as pd\n",
        "import numpy as np\n",
        "import time\n",
        "from datetime import datetime\n",
        "from pandas import to_datetime\n",
        "#import plotly.figure_factory as ff\n",
        "import plotly.graph_objects as go\n",
        "import json\n",
        "import plotly.express as px\n",
        "import requests\n",
        "import copy\n",
        "import urllib\n",
        "import pathlib\n",
        "from IPython.display import HTML, display\n",
        "from IPython.core.display import HTML"
      ],
      "metadata": {
        "id": "hcgJ2e_ltoiT"
      },
      "execution_count": 1,
      "outputs": []
    },
    {
      "cell_type": "code",
      "source": [
        "!pip install llama-index-core #llama-parse llama-index-readers-file"
      ],
      "metadata": {
        "id": "IGHRvWXXJn9-"
      },
      "execution_count": null,
      "outputs": []
    },
    {
      "cell_type": "code",
      "source": [
        "!pip install llama-index-llms-openai llama-index-embeddings-openai"
      ],
      "metadata": {
        "id": "ZOPVdJ7GJ6it"
      },
      "execution_count": null,
      "outputs": []
    },
    {
      "cell_type": "code",
      "source": [
        "from llama_index.llms.openai import OpenAI\n",
        "from llama_index.embeddings.openai import OpenAIEmbedding\n",
        "from llama_index.core import VectorStoreIndex, Document, StorageContext, ServiceContext, load_index_from_storage\n",
        "import llama_index.core.settings as settings\n",
        "import nest_asyncio\n",
        "nest_asyncio.apply()\n",
        "OPENAI_API_KEY=\"open-ai-key\"\n",
        "openai_llm = OpenAI(model=\"gpt-3.5-turbo\", api_key=OPENAI_API_KEY)\n",
        "embed_model = OpenAIEmbedding(model=\"text-embedding-ada-002\", api_key=OPENAI_API_KEY)"
      ],
      "metadata": {
        "id": "d6DAV2dTJygZ"
      },
      "execution_count": 9,
      "outputs": []
    },
    {
      "cell_type": "markdown",
      "source": [],
      "metadata": {
        "id": "kpE3sZX6eVdI"
      }
    },
    {
      "cell_type": "markdown",
      "source": [
        "#Orise-Webservice Client"
      ],
      "metadata": {
        "id": "z9wj6YW2WQZ2"
      }
    },
    {
      "cell_type": "code",
      "source": [
        "def get_token_omdAPI(tokenurl,credentials):\n",
        "    data = {\n",
        "        \"username\": credentials['username'],\n",
        "        \"password\": credentials['password']\n",
        "    }\n",
        "    token = requests.post(tokenurl, json=data)\n",
        "    return token\n",
        "\n",
        "def call_omdAPI(webserviceurl,token,apimethod,apidata):\n",
        "    postdata={\"method\":apimethod,\"data\":apidata}\n",
        "    headers = {\"Authorization\": f\"Token {token}\"}\n",
        "    response = requests.post(webserviceurl, json=postdata, headers=headers)\n",
        "    return response"
      ],
      "metadata": {
        "id": "Lb_r8MKb_Pts"
      },
      "execution_count": 5,
      "outputs": []
    },
    {
      "cell_type": "markdown",
      "source": [
        "##URL Specifications"
      ],
      "metadata": {
        "id": "w9pV3-uLq9r-"
      }
    },
    {
      "cell_type": "code",
      "source": [
        "domain=\"coco-green.orise.lk\"\n",
        "subdomain=\"beta-v2/app\"\n",
        "tokenurl=f'https://{domain}/{subdomain}/api/api-token-auth/'\n",
        "webserviceurl=f'https://{domain}/{subdomain}/api/'\n",
        "ai_api_webserviceurl=f'https://{domain}/{subdomain}/api/ai-query/'\n",
        "credentials={\"username\":\"ai-user\",\"password\":\"SYSCORE-demo#1234\"}"
      ],
      "metadata": {
        "id": "kie1Ic7JfOfD"
      },
      "execution_count": 6,
      "outputs": []
    },
    {
      "cell_type": "code",
      "source": [
        "response=get_token_omdAPI(tokenurl,credentials)\n",
        "token=response.json()['token']"
      ],
      "metadata": {
        "id": "MeM8ux4YqVLm"
      },
      "execution_count": 7,
      "outputs": []
    },
    {
      "cell_type": "markdown",
      "source": [
        "# Model Data Manipulation"
      ],
      "metadata": {
        "id": "-00so2jwFDC4"
      }
    },
    {
      "cell_type": "code",
      "source": [
        "apimethod = 'get_all_models'\n",
        "apidata = {}\n",
        "response = call_omdAPI(webserviceurl, token, apimethod, apidata)\n",
        "print(response.status_code)\n",
        "model_records=json.loads(response.json()['response']['data'])['records']\n",
        "df=pd.DataFrame(model_records)\n",
        "df"
      ],
      "metadata": {
        "id": "VFprj-qu0Hj9",
        "colab": {
          "base_uri": "https://localhost:8080/",
          "height": 442
        },
        "outputId": "57268125-b72d-4163-c5c7-7b90fbeb68c5"
      },
      "execution_count": 8,
      "outputs": [
        {
          "output_type": "stream",
          "name": "stdout",
          "text": [
            "201\n"
          ]
        },
        {
          "output_type": "execute_result",
          "data": {
            "text/plain": [
              "           app_label            model_name  \\\n",
              "0              admin              LogEntry   \n",
              "1               auth            Permission   \n",
              "2               auth                 Group   \n",
              "3           sessions               Session   \n",
              "4       contenttypes           ContentType   \n",
              "..               ...                   ...   \n",
              "111  realTimeDataApp  ProductionInfoManual   \n",
              "112  realTimeDataApp          DownTimeInfo   \n",
              "113  realTimeDataApp           DamagedInfo   \n",
              "114  realTimeDataApp        QCSampleManual   \n",
              "115  realTimeDataApp           WorkersInfo   \n",
              "\n",
              "                                                fields  \\\n",
              "0    [action_time, user, content_type, object_id, o...   \n",
              "1          [group, user, name, content_type, codename]   \n",
              "2      [user, roleassignment_group, name, permissions]   \n",
              "3             [session_key, session_data, expire_date]   \n",
              "4             [logentry, permission, app_label, model]   \n",
              "..                                                 ...   \n",
              "111  [machine_order, damaged, number_of_workers, st...   \n",
              "112          [machine_order, downtime, comments, hour]   \n",
              "113           [machine_order, damaged, comments, hour]   \n",
              "114  [machine_order, counter_sample, qc_testing_wit...   \n",
              "115  [machine_order, number_of_workers, comments, h...   \n",
              "\n",
              "                                           description  \n",
              "0    Model LogEntry fields are action_time, user, c...  \n",
              "1    Model Permission fields are group, user, name,...  \n",
              "2    Model Group fields are user, roleassignment_gr...  \n",
              "3    Model Session fields are session_key, session_...  \n",
              "4    Model ContentType fields are logentry, permiss...  \n",
              "..                                                 ...  \n",
              "111  Model ProductionInfoManual fields are machine_...  \n",
              "112  Model DownTimeInfo fields are machine_order, d...  \n",
              "113  Model DamagedInfo fields are machine_order, da...  \n",
              "114  Model QCSampleManual fields are machine_order,...  \n",
              "115  Model WorkersInfo fields are machine_order, nu...  \n",
              "\n",
              "[116 rows x 4 columns]"
            ],
            "text/html": [
              "\n",
              "  <div id=\"df-d9ff6eee-877a-4ce6-86aa-cbd740d6d8c9\" class=\"colab-df-container\">\n",
              "    <div>\n",
              "<style scoped>\n",
              "    .dataframe tbody tr th:only-of-type {\n",
              "        vertical-align: middle;\n",
              "    }\n",
              "\n",
              "    .dataframe tbody tr th {\n",
              "        vertical-align: top;\n",
              "    }\n",
              "\n",
              "    .dataframe thead th {\n",
              "        text-align: right;\n",
              "    }\n",
              "</style>\n",
              "<table border=\"1\" class=\"dataframe\">\n",
              "  <thead>\n",
              "    <tr style=\"text-align: right;\">\n",
              "      <th></th>\n",
              "      <th>app_label</th>\n",
              "      <th>model_name</th>\n",
              "      <th>fields</th>\n",
              "      <th>description</th>\n",
              "    </tr>\n",
              "  </thead>\n",
              "  <tbody>\n",
              "    <tr>\n",
              "      <th>0</th>\n",
              "      <td>admin</td>\n",
              "      <td>LogEntry</td>\n",
              "      <td>[action_time, user, content_type, object_id, o...</td>\n",
              "      <td>Model LogEntry fields are action_time, user, c...</td>\n",
              "    </tr>\n",
              "    <tr>\n",
              "      <th>1</th>\n",
              "      <td>auth</td>\n",
              "      <td>Permission</td>\n",
              "      <td>[group, user, name, content_type, codename]</td>\n",
              "      <td>Model Permission fields are group, user, name,...</td>\n",
              "    </tr>\n",
              "    <tr>\n",
              "      <th>2</th>\n",
              "      <td>auth</td>\n",
              "      <td>Group</td>\n",
              "      <td>[user, roleassignment_group, name, permissions]</td>\n",
              "      <td>Model Group fields are user, roleassignment_gr...</td>\n",
              "    </tr>\n",
              "    <tr>\n",
              "      <th>3</th>\n",
              "      <td>sessions</td>\n",
              "      <td>Session</td>\n",
              "      <td>[session_key, session_data, expire_date]</td>\n",
              "      <td>Model Session fields are session_key, session_...</td>\n",
              "    </tr>\n",
              "    <tr>\n",
              "      <th>4</th>\n",
              "      <td>contenttypes</td>\n",
              "      <td>ContentType</td>\n",
              "      <td>[logentry, permission, app_label, model]</td>\n",
              "      <td>Model ContentType fields are logentry, permiss...</td>\n",
              "    </tr>\n",
              "    <tr>\n",
              "      <th>...</th>\n",
              "      <td>...</td>\n",
              "      <td>...</td>\n",
              "      <td>...</td>\n",
              "      <td>...</td>\n",
              "    </tr>\n",
              "    <tr>\n",
              "      <th>111</th>\n",
              "      <td>realTimeDataApp</td>\n",
              "      <td>ProductionInfoManual</td>\n",
              "      <td>[machine_order, damaged, number_of_workers, st...</td>\n",
              "      <td>Model ProductionInfoManual fields are machine_...</td>\n",
              "    </tr>\n",
              "    <tr>\n",
              "      <th>112</th>\n",
              "      <td>realTimeDataApp</td>\n",
              "      <td>DownTimeInfo</td>\n",
              "      <td>[machine_order, downtime, comments, hour]</td>\n",
              "      <td>Model DownTimeInfo fields are machine_order, d...</td>\n",
              "    </tr>\n",
              "    <tr>\n",
              "      <th>113</th>\n",
              "      <td>realTimeDataApp</td>\n",
              "      <td>DamagedInfo</td>\n",
              "      <td>[machine_order, damaged, comments, hour]</td>\n",
              "      <td>Model DamagedInfo fields are machine_order, da...</td>\n",
              "    </tr>\n",
              "    <tr>\n",
              "      <th>114</th>\n",
              "      <td>realTimeDataApp</td>\n",
              "      <td>QCSampleManual</td>\n",
              "      <td>[machine_order, counter_sample, qc_testing_wit...</td>\n",
              "      <td>Model QCSampleManual fields are machine_order,...</td>\n",
              "    </tr>\n",
              "    <tr>\n",
              "      <th>115</th>\n",
              "      <td>realTimeDataApp</td>\n",
              "      <td>WorkersInfo</td>\n",
              "      <td>[machine_order, number_of_workers, comments, h...</td>\n",
              "      <td>Model WorkersInfo fields are machine_order, nu...</td>\n",
              "    </tr>\n",
              "  </tbody>\n",
              "</table>\n",
              "<p>116 rows × 4 columns</p>\n",
              "</div>\n",
              "    <div class=\"colab-df-buttons\">\n",
              "\n",
              "  <div class=\"colab-df-container\">\n",
              "    <button class=\"colab-df-convert\" onclick=\"convertToInteractive('df-d9ff6eee-877a-4ce6-86aa-cbd740d6d8c9')\"\n",
              "            title=\"Convert this dataframe to an interactive table.\"\n",
              "            style=\"display:none;\">\n",
              "\n",
              "  <svg xmlns=\"http://www.w3.org/2000/svg\" height=\"24px\" viewBox=\"0 -960 960 960\">\n",
              "    <path d=\"M120-120v-720h720v720H120Zm60-500h600v-160H180v160Zm220 220h160v-160H400v160Zm0 220h160v-160H400v160ZM180-400h160v-160H180v160Zm440 0h160v-160H620v160ZM180-180h160v-160H180v160Zm440 0h160v-160H620v160Z\"/>\n",
              "  </svg>\n",
              "    </button>\n",
              "\n",
              "  <style>\n",
              "    .colab-df-container {\n",
              "      display:flex;\n",
              "      gap: 12px;\n",
              "    }\n",
              "\n",
              "    .colab-df-convert {\n",
              "      background-color: #E8F0FE;\n",
              "      border: none;\n",
              "      border-radius: 50%;\n",
              "      cursor: pointer;\n",
              "      display: none;\n",
              "      fill: #1967D2;\n",
              "      height: 32px;\n",
              "      padding: 0 0 0 0;\n",
              "      width: 32px;\n",
              "    }\n",
              "\n",
              "    .colab-df-convert:hover {\n",
              "      background-color: #E2EBFA;\n",
              "      box-shadow: 0px 1px 2px rgba(60, 64, 67, 0.3), 0px 1px 3px 1px rgba(60, 64, 67, 0.15);\n",
              "      fill: #174EA6;\n",
              "    }\n",
              "\n",
              "    .colab-df-buttons div {\n",
              "      margin-bottom: 4px;\n",
              "    }\n",
              "\n",
              "    [theme=dark] .colab-df-convert {\n",
              "      background-color: #3B4455;\n",
              "      fill: #D2E3FC;\n",
              "    }\n",
              "\n",
              "    [theme=dark] .colab-df-convert:hover {\n",
              "      background-color: #434B5C;\n",
              "      box-shadow: 0px 1px 3px 1px rgba(0, 0, 0, 0.15);\n",
              "      filter: drop-shadow(0px 1px 2px rgba(0, 0, 0, 0.3));\n",
              "      fill: #FFFFFF;\n",
              "    }\n",
              "  </style>\n",
              "\n",
              "    <script>\n",
              "      const buttonEl =\n",
              "        document.querySelector('#df-d9ff6eee-877a-4ce6-86aa-cbd740d6d8c9 button.colab-df-convert');\n",
              "      buttonEl.style.display =\n",
              "        google.colab.kernel.accessAllowed ? 'block' : 'none';\n",
              "\n",
              "      async function convertToInteractive(key) {\n",
              "        const element = document.querySelector('#df-d9ff6eee-877a-4ce6-86aa-cbd740d6d8c9');\n",
              "        const dataTable =\n",
              "          await google.colab.kernel.invokeFunction('convertToInteractive',\n",
              "                                                    [key], {});\n",
              "        if (!dataTable) return;\n",
              "\n",
              "        const docLinkHtml = 'Like what you see? Visit the ' +\n",
              "          '<a target=\"_blank\" href=https://colab.research.google.com/notebooks/data_table.ipynb>data table notebook</a>'\n",
              "          + ' to learn more about interactive tables.';\n",
              "        element.innerHTML = '';\n",
              "        dataTable['output_type'] = 'display_data';\n",
              "        await google.colab.output.renderOutput(dataTable, element);\n",
              "        const docLink = document.createElement('div');\n",
              "        docLink.innerHTML = docLinkHtml;\n",
              "        element.appendChild(docLink);\n",
              "      }\n",
              "    </script>\n",
              "  </div>\n",
              "\n",
              "\n",
              "<div id=\"df-97ff0b6a-6392-4eef-b10c-e91ccb47af24\">\n",
              "  <button class=\"colab-df-quickchart\" onclick=\"quickchart('df-97ff0b6a-6392-4eef-b10c-e91ccb47af24')\"\n",
              "            title=\"Suggest charts\"\n",
              "            style=\"display:none;\">\n",
              "\n",
              "<svg xmlns=\"http://www.w3.org/2000/svg\" height=\"24px\"viewBox=\"0 0 24 24\"\n",
              "     width=\"24px\">\n",
              "    <g>\n",
              "        <path d=\"M19 3H5c-1.1 0-2 .9-2 2v14c0 1.1.9 2 2 2h14c1.1 0 2-.9 2-2V5c0-1.1-.9-2-2-2zM9 17H7v-7h2v7zm4 0h-2V7h2v10zm4 0h-2v-4h2v4z\"/>\n",
              "    </g>\n",
              "</svg>\n",
              "  </button>\n",
              "\n",
              "<style>\n",
              "  .colab-df-quickchart {\n",
              "      --bg-color: #E8F0FE;\n",
              "      --fill-color: #1967D2;\n",
              "      --hover-bg-color: #E2EBFA;\n",
              "      --hover-fill-color: #174EA6;\n",
              "      --disabled-fill-color: #AAA;\n",
              "      --disabled-bg-color: #DDD;\n",
              "  }\n",
              "\n",
              "  [theme=dark] .colab-df-quickchart {\n",
              "      --bg-color: #3B4455;\n",
              "      --fill-color: #D2E3FC;\n",
              "      --hover-bg-color: #434B5C;\n",
              "      --hover-fill-color: #FFFFFF;\n",
              "      --disabled-bg-color: #3B4455;\n",
              "      --disabled-fill-color: #666;\n",
              "  }\n",
              "\n",
              "  .colab-df-quickchart {\n",
              "    background-color: var(--bg-color);\n",
              "    border: none;\n",
              "    border-radius: 50%;\n",
              "    cursor: pointer;\n",
              "    display: none;\n",
              "    fill: var(--fill-color);\n",
              "    height: 32px;\n",
              "    padding: 0;\n",
              "    width: 32px;\n",
              "  }\n",
              "\n",
              "  .colab-df-quickchart:hover {\n",
              "    background-color: var(--hover-bg-color);\n",
              "    box-shadow: 0 1px 2px rgba(60, 64, 67, 0.3), 0 1px 3px 1px rgba(60, 64, 67, 0.15);\n",
              "    fill: var(--button-hover-fill-color);\n",
              "  }\n",
              "\n",
              "  .colab-df-quickchart-complete:disabled,\n",
              "  .colab-df-quickchart-complete:disabled:hover {\n",
              "    background-color: var(--disabled-bg-color);\n",
              "    fill: var(--disabled-fill-color);\n",
              "    box-shadow: none;\n",
              "  }\n",
              "\n",
              "  .colab-df-spinner {\n",
              "    border: 2px solid var(--fill-color);\n",
              "    border-color: transparent;\n",
              "    border-bottom-color: var(--fill-color);\n",
              "    animation:\n",
              "      spin 1s steps(1) infinite;\n",
              "  }\n",
              "\n",
              "  @keyframes spin {\n",
              "    0% {\n",
              "      border-color: transparent;\n",
              "      border-bottom-color: var(--fill-color);\n",
              "      border-left-color: var(--fill-color);\n",
              "    }\n",
              "    20% {\n",
              "      border-color: transparent;\n",
              "      border-left-color: var(--fill-color);\n",
              "      border-top-color: var(--fill-color);\n",
              "    }\n",
              "    30% {\n",
              "      border-color: transparent;\n",
              "      border-left-color: var(--fill-color);\n",
              "      border-top-color: var(--fill-color);\n",
              "      border-right-color: var(--fill-color);\n",
              "    }\n",
              "    40% {\n",
              "      border-color: transparent;\n",
              "      border-right-color: var(--fill-color);\n",
              "      border-top-color: var(--fill-color);\n",
              "    }\n",
              "    60% {\n",
              "      border-color: transparent;\n",
              "      border-right-color: var(--fill-color);\n",
              "    }\n",
              "    80% {\n",
              "      border-color: transparent;\n",
              "      border-right-color: var(--fill-color);\n",
              "      border-bottom-color: var(--fill-color);\n",
              "    }\n",
              "    90% {\n",
              "      border-color: transparent;\n",
              "      border-bottom-color: var(--fill-color);\n",
              "    }\n",
              "  }\n",
              "</style>\n",
              "\n",
              "  <script>\n",
              "    async function quickchart(key) {\n",
              "      const quickchartButtonEl =\n",
              "        document.querySelector('#' + key + ' button');\n",
              "      quickchartButtonEl.disabled = true;  // To prevent multiple clicks.\n",
              "      quickchartButtonEl.classList.add('colab-df-spinner');\n",
              "      try {\n",
              "        const charts = await google.colab.kernel.invokeFunction(\n",
              "            'suggestCharts', [key], {});\n",
              "      } catch (error) {\n",
              "        console.error('Error during call to suggestCharts:', error);\n",
              "      }\n",
              "      quickchartButtonEl.classList.remove('colab-df-spinner');\n",
              "      quickchartButtonEl.classList.add('colab-df-quickchart-complete');\n",
              "    }\n",
              "    (() => {\n",
              "      let quickchartButtonEl =\n",
              "        document.querySelector('#df-97ff0b6a-6392-4eef-b10c-e91ccb47af24 button');\n",
              "      quickchartButtonEl.style.display =\n",
              "        google.colab.kernel.accessAllowed ? 'block' : 'none';\n",
              "    })();\n",
              "  </script>\n",
              "</div>\n",
              "\n",
              "  <div id=\"id_9f2c722c-6358-4d95-be0d-68989ae215ed\">\n",
              "    <style>\n",
              "      .colab-df-generate {\n",
              "        background-color: #E8F0FE;\n",
              "        border: none;\n",
              "        border-radius: 50%;\n",
              "        cursor: pointer;\n",
              "        display: none;\n",
              "        fill: #1967D2;\n",
              "        height: 32px;\n",
              "        padding: 0 0 0 0;\n",
              "        width: 32px;\n",
              "      }\n",
              "\n",
              "      .colab-df-generate:hover {\n",
              "        background-color: #E2EBFA;\n",
              "        box-shadow: 0px 1px 2px rgba(60, 64, 67, 0.3), 0px 1px 3px 1px rgba(60, 64, 67, 0.15);\n",
              "        fill: #174EA6;\n",
              "      }\n",
              "\n",
              "      [theme=dark] .colab-df-generate {\n",
              "        background-color: #3B4455;\n",
              "        fill: #D2E3FC;\n",
              "      }\n",
              "\n",
              "      [theme=dark] .colab-df-generate:hover {\n",
              "        background-color: #434B5C;\n",
              "        box-shadow: 0px 1px 3px 1px rgba(0, 0, 0, 0.15);\n",
              "        filter: drop-shadow(0px 1px 2px rgba(0, 0, 0, 0.3));\n",
              "        fill: #FFFFFF;\n",
              "      }\n",
              "    </style>\n",
              "    <button class=\"colab-df-generate\" onclick=\"generateWithVariable('df')\"\n",
              "            title=\"Generate code using this dataframe.\"\n",
              "            style=\"display:none;\">\n",
              "\n",
              "  <svg xmlns=\"http://www.w3.org/2000/svg\" height=\"24px\"viewBox=\"0 0 24 24\"\n",
              "       width=\"24px\">\n",
              "    <path d=\"M7,19H8.4L18.45,9,17,7.55,7,17.6ZM5,21V16.75L18.45,3.32a2,2,0,0,1,2.83,0l1.4,1.43a1.91,1.91,0,0,1,.58,1.4,1.91,1.91,0,0,1-.58,1.4L9.25,21ZM18.45,9,17,7.55Zm-12,3A5.31,5.31,0,0,0,4.9,8.1,5.31,5.31,0,0,0,1,6.5,5.31,5.31,0,0,0,4.9,4.9,5.31,5.31,0,0,0,6.5,1,5.31,5.31,0,0,0,8.1,4.9,5.31,5.31,0,0,0,12,6.5,5.46,5.46,0,0,0,6.5,12Z\"/>\n",
              "  </svg>\n",
              "    </button>\n",
              "    <script>\n",
              "      (() => {\n",
              "      const buttonEl =\n",
              "        document.querySelector('#id_9f2c722c-6358-4d95-be0d-68989ae215ed button.colab-df-generate');\n",
              "      buttonEl.style.display =\n",
              "        google.colab.kernel.accessAllowed ? 'block' : 'none';\n",
              "\n",
              "      buttonEl.onclick = () => {\n",
              "        google.colab.notebook.generateWithVariable('df');\n",
              "      }\n",
              "      })();\n",
              "    </script>\n",
              "  </div>\n",
              "\n",
              "    </div>\n",
              "  </div>\n"
            ],
            "application/vnd.google.colaboratory.intrinsic+json": {
              "type": "dataframe",
              "variable_name": "df",
              "summary": "{\n  \"name\": \"df\",\n  \"rows\": 116,\n  \"fields\": [\n    {\n      \"column\": \"app_label\",\n      \"properties\": {\n        \"dtype\": \"category\",\n        \"num_unique_values\": 18,\n        \"samples\": [\n          \"admin\",\n          \"auth\",\n          \"authtoken\"\n        ],\n        \"semantic_type\": \"\",\n        \"description\": \"\"\n      }\n    },\n    {\n      \"column\": \"model_name\",\n      \"properties\": {\n        \"dtype\": \"string\",\n        \"num_unique_values\": 116,\n        \"samples\": [\n          \"DeliveryAddress\",\n          \"ContentType\",\n          \"Message\"\n        ],\n        \"semantic_type\": \"\",\n        \"description\": \"\"\n      }\n    },\n    {\n      \"column\": \"fields\",\n      \"properties\": {\n        \"dtype\": \"object\",\n        \"semantic_type\": \"\",\n        \"description\": \"\"\n      }\n    },\n    {\n      \"column\": \"description\",\n      \"properties\": {\n        \"dtype\": \"string\",\n        \"num_unique_values\": 116,\n        \"samples\": [\n          \"Model DeliveryAddress fields are sales_order_delivery_address, name, customer, address, delivery_zone, description\",\n          \"Model ContentType fields are logentry, permission, app_label, model\",\n          \"Model Message fields are event, subject, message, sent_status, remind_on, recipients\"\n        ],\n        \"semantic_type\": \"\",\n        \"description\": \"\"\n      }\n    }\n  ]\n}"
            }
          },
          "metadata": {},
          "execution_count": 8
        }
      ]
    },
    {
      "cell_type": "markdown",
      "source": [
        "##LlamaIndex"
      ],
      "metadata": {
        "id": "xxr__O_dw3i6"
      }
    },
    {
      "cell_type": "code",
      "source": [
        "import llama_index"
      ],
      "metadata": {
        "id": "3VivafkJvcUl"
      },
      "execution_count": 10,
      "outputs": []
    },
    {
      "cell_type": "code",
      "source": [
        "from llama_index.core.vector_stores import SimpleVectorStore\n",
        "from llama_index.core.graph_stores.simple import SimpleGraphStore\n",
        "from llama_index.core import Settings"
      ],
      "metadata": {
        "id": "jwhFOvrRrDv3"
      },
      "execution_count": 11,
      "outputs": []
    },
    {
      "cell_type": "code",
      "source": [
        "def initialize_index(llm, embed_model, storage_dir):\n",
        "    pathlib.Path(storage_dir).mkdir(parents=True, exist_ok=True)\n",
        "    fake_docstore_doc = {\n",
        "            \"text\": \"This is a placeholder document.\",\n",
        "            \"metadata\": {\"data_id\": \"placeholder-id\"},\n",
        "        }\n",
        "    fake_docstore = {\n",
        "        \"doc_id_1\": fake_docstore_doc\n",
        "    }\n",
        "\n",
        "    with open(f\"{storage_dir}/docstore.json\", \"w\") as f:\n",
        "        json.dump(fake_docstore, f)\n",
        "\n",
        "    with open(f\"{storage_dir}/index_store.json\", \"w\") as f:\n",
        "        json.dump(fake_docstore, f)\n",
        "\n",
        "    documents = [\n",
        "        Document(text=json.dumps(fake_docstore_doc), metadata=fake_docstore_doc)\n",
        "    ]\n",
        "    vector_store = SimpleVectorStore(persist_dir=storage_dir)\n",
        "    graph_store = SimpleGraphStore(persist_dir=storage_dir)\n",
        "    # Create a StorageContext\n",
        "    storage_context = StorageContext.from_defaults(\n",
        "        persist_dir=storage_dir,\n",
        "        vector_store = vector_store,\n",
        "        graph_store = graph_store\n",
        "        )\n",
        "\n",
        "    # Create a Vector Index, passing the storage_context during initialization\n",
        "    index = VectorStoreIndex.from_documents(documents, storage_context=storage_context, llm=llm, embed_model=embed_model)\n",
        "    # Persist the index to the storage context\n",
        "    index.storage_context.persist()\n",
        "    return index\n",
        "\n",
        "\n",
        "def add_records_to_index(llm, embed_model, storage_dir, records):\n",
        "    # Load existing index\n",
        "    storage_context = StorageContext.from_defaults(persist_dir=storage_dir)\n",
        "    index = load_index_from_storage(storage_context, llm=llm, embed_model=embed_model)\n",
        "\n",
        "    # Insert each document individually\n",
        "    for record in records:\n",
        "        text = json.dumps(record)\n",
        "        metadata = record\n",
        "        new_document = Document(text=text, metadata=metadata)\n",
        "        index.insert(new_document)  # Insert one document at a time\n",
        "\n",
        "    # Persist the updated index\n",
        "    index.storage_context.persist()\n",
        "\n",
        "    return index\n",
        "\n",
        "def add_json_to_index(llm, embed_model, storage_dir, text,metadata):\n",
        "    storage_context = StorageContext.from_defaults(persist_dir=storage_dir)\n",
        "    index = load_index_from_storage(storage_context, llm=llm, embed_model=embed_model)\n",
        "    new_document = Document(text=text, metadata=metadata)\n",
        "    index.insert(new_document)  # Adds new document to the index\n",
        "    index.storage_context.persist()  # Persists updated index\n",
        "    return index\n",
        "\n",
        "def query_index(query, llm, embed_model, storage_dir, retriever_kwargs={\"top_k\": 1}):\n",
        "    storage_context = StorageContext.from_defaults(persist_dir=storage_dir)\n",
        "    index = load_index_from_storage(storage_context, llm=llm, embed_model=embed_model)\n",
        "    # create a query engine for the index\n",
        "    query_engine = index.as_query_engine(llm=llm, retriever_kwargs=retriever_kwargs)\n",
        "    response = query_engine.query(query)\n",
        "    return response"
      ],
      "metadata": {
        "id": "CoJ2Lsdx1SkN"
      },
      "execution_count": 12,
      "outputs": []
    },
    {
      "cell_type": "markdown",
      "source": [
        "##Create a model index"
      ],
      "metadata": {
        "id": "yp_JHbUY4w7E"
      }
    },
    {
      "cell_type": "code",
      "source": [
        "storage_dir = \"/content/storage\"  # Use \"/content/\" as the base directory\n",
        "index=initialize_index(openai_llm, embed_model, storage_dir)"
      ],
      "metadata": {
        "id": "CXdWgGN64zrh"
      },
      "execution_count": 13,
      "outputs": []
    },
    {
      "cell_type": "code",
      "source": [
        "add_records_to_index(openai_llm, embed_model, storage_dir, model_records)"
      ],
      "metadata": {
        "id": "sV-vFC-8HkK5",
        "colab": {
          "base_uri": "https://localhost:8080/"
        },
        "collapsed": true,
        "outputId": "647a289f-d6a5-4fef-c901-1061cca4003a"
      },
      "execution_count": 14,
      "outputs": [
        {
          "output_type": "execute_result",
          "data": {
            "text/plain": [
              "<llama_index.core.indices.vector_store.base.VectorStoreIndex at 0x7e59c95b62d0>"
            ]
          },
          "metadata": {},
          "execution_count": 14
        }
      ]
    },
    {
      "cell_type": "code",
      "source": [
        "message=\"RegionSlotAllocation wise for week 24 to 38 for 2025\" #\"A Pie chart of region wise slots allocated\""
      ],
      "metadata": {
        "id": "Hl6idm3lLjUN"
      },
      "execution_count": 15,
      "outputs": []
    },
    {
      "cell_type": "code",
      "source": [
        "query_response = query_index(message, openai_llm, embed_model, storage_dir)"
      ],
      "metadata": {
        "id": "SFBRC7OV8XM5"
      },
      "execution_count": 16,
      "outputs": []
    },
    {
      "cell_type": "code",
      "source": [
        "query_response.metadata"
      ],
      "metadata": {
        "id": "TPD0M7kE8c38",
        "colab": {
          "base_uri": "https://localhost:8080/"
        },
        "outputId": "97e851fc-e62e-44fb-f155-15df502a0d8e"
      },
      "execution_count": 17,
      "outputs": [
        {
          "output_type": "execute_result",
          "data": {
            "text/plain": [
              "{'87e050f4-6853-41a2-b52c-be77924e1ee8': {'app_label': 'modelsApp',\n",
              "  'model_name': 'MaxSlotAllocation',\n",
              "  'fields': ['year', 'week', 'product_type', 'slots'],\n",
              "  'description': 'Model MaxSlotAllocation fields are year, week, product_type, slots'},\n",
              " '2860506b-3ddb-49db-b75e-1651d08b92cc': {'app_label': 'modelsApp',\n",
              "  'model_name': 'FactorySlotAllocation',\n",
              "  'fields': ['year', 'factory', 'week', 'product_type', 'slots'],\n",
              "  'description': 'Model FactorySlotAllocation fields are year, factory, week, product_type, slots'}}"
            ]
          },
          "metadata": {},
          "execution_count": 17
        }
      ]
    },
    {
      "cell_type": "code",
      "source": [
        "response.text"
      ],
      "metadata": {
        "id": "edXSYdg8FzjG"
      },
      "execution_count": null,
      "outputs": []
    }
  ]
}